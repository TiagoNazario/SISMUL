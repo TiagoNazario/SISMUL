{
 "cells": [
  {
   "attachments": {},
   "cell_type": "markdown",
   "id": "14578974-28db-41e4-b388-e6706bb30c6d",
   "metadata": {
    "deletable": false,
    "editable": false,
    "tags": []
   },
   "source": [
    "<div align=\"center\">\n",
    "    <h1>Multimedia Communications - COMUL <br> & <br> Multimedia Systems - SISMUL</h1>\n",
    "    <h2>Lab 1.1 - Introduction to Python</h2>\n",
    "    <h4>Degree in Telecommunications and Informatics Engineering <br> & <br> Degree in Electrical And Computer Engineering</h4>\n",
    "    <h5><img width=\"500\" src=\"../img/logo_isep.jpg\"><br>2022 / 23</h5>\n",
    "</div>\n",
    "\n",
    "<div align=\"left\">\n",
    "    <h5>Authors: Luís Vilaça (snv@isep.ipp.pt), Paula Viana (pmv@isep.ipp.pt)</h5>\n",
    "</div>\n",
    "\n",
    "---"
   ]
  },
  {
   "cell_type": "markdown",
   "id": "a9d12028-7475-42f2-88db-2f02f97eb839",
   "metadata": {
    "tags": []
   },
   "source": [
    "## 1. Objectives\n",
    "This lab script aims at introducing the student to the Python programming language, based on the assumption that the student has basic C programming and algorithmic skills. In addition, we introduce the most important Python packages (libraries) for computer vision/image processing and data science.\n",
    "\n",
    "After reading, executing and understanding the exercises and demonstrations provided along this lab script, the student should develop minimum skills to read and develop software using Python. Obviously, this does not imply a profound knowledge on the topic, thus the student is encouraged to seek additional information and consult the official documentation."
   ]
  },
  {
   "cell_type": "markdown",
   "id": "d9325e64",
   "metadata": {},
   "source": [
    "## 2. Introduction\n",
    "\n",
    "Python is a free, portable, dynamically-typed, object oriented scripting language [1]. It difers from the traditional system programming languages in the following:\n",
    "\n",
    "| System Programming Languages      | Scripting Languages |\n",
    "| ----------- | ----------- |\n",
    "| Statically typed - variable type is known at compilation      | Dynamically typed - variable type is associated at runtime       |\n",
    "| Compiled   | Interpreted        |\n",
    "| Low-level - Represent a modest abstraction of the machine code   | High-level languages - \"Can be seen as a glue\" that interconnects independent components into large-scale applications.        |\n",
    "\n",
    "Python has a **block stucture terminated by the end of line and indicated by indentation**. Programs look like pseudo-code and have the advantage of avoiding usual syntax errors (e.g., semi-colons, bracketing). For example, the following Python code sums the numbers 0-9 and prints the result:\n",
    "\n",
    "```python\n",
    "a = [0, 1, 2, 3, 4, 5, 6, 7, 8, 9]\n",
    "print(sum(a))\n",
    "```\n",
    "\n",
    "In comparison, system languages typically look as follows, which is arguably less-intuitive:\n",
    "```c++\n",
    "#include <iostream>\n",
    "#include <vector>\n",
    "#include <numeric>\n",
    "\n",
    "int main() {\n",
    "    std::vector<int> a = {0, 1, 2, 3, 4, 5, 6, 7, 8, 9};\n",
    "    std::cout << std::accumulate(a.begin(), a.end(), 0) << std::endl;\n",
    "}\n",
    "```\n",
    "\n",
    "As such, Python is a language that is used to rapidly prototype and test code. Additionally, it is open-source, meaning anyone can participate in improving/maintaining the language. All these aspects made Python exceptionally popular among scientists, engineers and researchers."
   ]
  },
  {
   "attachments": {},
   "cell_type": "markdown",
   "id": "345bd1fb",
   "metadata": {},
   "source": [
    "### 2.1. Python interpreter\n",
    "\n",
    "Python code is \"executed\" by a piece of software called the interpreter. An interpreter is any computer program that is capable of doing the following:\n",
    "\n",
    "- Read in a text file containing your code (e.g. my_code.py).\n",
    "- Parse the text and determine if it obeys the rules of the language (the interpreter will raise an error if the rules are not obeyed).\n",
    "- Translate the parsed text into instructions, according to the Python language’s specifications.\n",
    "- Instruct the computer to carry out those tasks.\n",
    "\n",
    "The first Python interpreter was written in C (programming language) and is known as CPython. Accordingly, it is the official interpreter of the Python language. Any new rules/features that are introduced to the Python language are guaranteed be implemented in the CPython code base. To compare the different computational paradigms, we illustrate in Fig. 1 and 2 the differences between a system language and an interpreted language.\n",
    "\n",
    "<center>\n",
    "<figure>\n",
    "    <img src=\"img/C-compile.png\">\n",
    "    <figcaption align = \"center\">Fig.1 - C-code compilation</figcaption>\n",
    "</figure>\n",
    "</center>\n",
    "<br>\n",
    "<center>\n",
    "<figure>\n",
    "    <img src=\"img/Python-Interpreter.png\">\n",
    "    <figcaption align = \"center\">Fig.2 - Python-code interpretation</figcaption>\n",
    "</figure>\n",
    "</center>\n",
    "\n",
    "Clearly, we can see that Python is not a completely interpreted language since **it has a compilation step that converts raw code into a set of instructions called byte code**. Its comprised of nearly 101 instructions (Complex Instruction Set Computer - CISC). This step can be compared with the compilation step we commonly know from C, thus we can say that Python is a compiled and interpreted language [2,3]. Using the following Python code you can obtain the byte code corresponding to the function \"def func (): x = y + 2\".\n",
    "\n",
    "```python\n",
    "import dis\n",
    "# create expression\n",
    "s = \" def func (): x = y + 2\"\n",
    "# compile to bytecode\n",
    "c = compile(s , \"\" , \" exec \" )\n",
    "# obtain formated view\n",
    "dis.dis(c)\n",
    "\n",
    ">> 0 LOAD_GLOBAL              0 (y)\n",
    "   2 LOAD_CONST               1 (2)\n",
    "   4 BINARY_ADD\n",
    "   6 STORE_FAST               0 (x)\n",
    "   8 LOAD_CONST               0 (None)\n",
    "   10 RETURN_VALUE\n",
    "```\n",
    "\n",
    "Installing Python on your computer is simply downloading an executable program that operates as an interpreter. This is the final result of the CPython's code. This software is bundled with a set of useful functions and tools that you can use in your code, which is known as the Python standard library. You can check its contents [here](https://docs.python.org/3/library/index.html#the-python-standard-library).\n",
    "\n",
    "Once you have a Python interpreter installed on your machine, using it to execute a Python script is quite simple. Assume for the sake of simplicity that the python interpreter program and my_script.py are in the same directory (a.k.a ‘folder’) in your computer. Then, in a terminal (cmd.exe for Windows) you can execute the following command: \n",
    "\n",
    "```python \n",
    "python my_code.py    or    python3 my_code.py\n",
    "```\n",
    "\n",
    "Alternatively, you can use the interactive Python interpreter (IPython) by only typing `python` on the terminal. This will give you access to a line-by-line interpreter where you can quickly evaluate your code.\n",
    "\n",
    "```python\n",
    "user@pc:~$ python\n",
    "Python 3.10.8 (main, Nov 24 2022, 14:13:03) [GCC 11.2.0] on linux\n",
    "Type \"help\", \"copyright\", \"credits\" or \"license\" for more information.\n",
    ">>>\n",
    "```"
   ]
  },
  {
   "cell_type": "markdown",
   "id": "933b6c7a",
   "metadata": {},
   "source": [
    "### 2.2. Python memory management: how does the language deals with memory and variables?\n",
    "\n",
    "A variable is a container that can store different values:\n",
    "```C\n",
    "int a = 5;\n",
    "int b = 4;\n",
    "```\n",
    "which can be allocated as follows:\n",
    "| Variable | Location | Value |\n",
    "| ----------- | ----------- | ----------- |\n",
    "| a | 0x3E8 | 101 |\n",
    "| b | 0x3E9 | 010 |\n",
    "\n",
    "These values can be stored in \"fixed-size buckets\" which can be allocated in two different ways: **stack and heap**. In the following Table we summarise the most important key aspects between both memory allocation paradigms. For more information the student is advised to read [4] and [5].\n",
    "\n",
    "| Stack | Heap |\n",
    "| ----------- | ----------- |\n",
    "| Static allocation | Dynamic allocation (no enforced pattern of allocation) |\n",
    "| Allocation in contiguous blocks of memory | Can be complex to keep track of which parts are allocated or freed |\n",
    "| Allocation happens in the function call stack (attached to the thread) | Size is set when the application is started but can grow (allocator can request more from the operating system (OS) |\n",
    "| Data stored can only be accessed by its corresponding thread | Data stored is visible to all threads |\n",
    "| LIFO behaviour: most recently reserved block is always the first to be freed | Not very safe when comparing with stack-memory: the programmer needs to deal with memory deallocation to avoid memory leaks |\n",
    "| Faster than heap memory allocation |  |\n",
    "\n",
    "In C, stack allocation is attributed through the scope \"{}\" (local variables), while heap objects are attributes through C's dynamic allocation methods (malloc(), calloc(), etc).\n",
    "\n",
    "**In Python we have a uniform memory model where (almost) everything is an object.** We do not use the concept of variable because variables are mere references (pointers) to objects allocated in the heap. Thus, Python is based on the following model: **names -> references -> objects**. We encorage the student to run the following snippet line-by-line:\n",
    "\n",
    "```python\n",
    "# id() prints the memory location of the object\n",
    "x = \"test\"\n",
    "type (x)\n",
    "\n",
    "y = x\n",
    "id(x)\n",
    "id(y)\n",
    "\n",
    "y = x + '2'\n",
    "id(x)\n",
    "id(y)\n",
    "\n",
    "z = \"test\"\n",
    "id(z)\n",
    "id(x)\n",
    "\n",
    "z  = [\"test\", \"b\"]\n",
    "type(z)\n",
    "id(z)\n",
    "```\n",
    "\n",
    "Here, we can clearly see that the same memory location is assigned to different names/\"variables\".  This is all automatically assigned and the programmer do not have to deal with memory management or allocation. Then, how is this managed? How can Python's inner works deal with possible memory leaks? How is memory freed?\n",
    "\n",
    "**Objects in Python store three different properties: type, value and reference count.** Reference count is increased by assigning references to the same value (object reuse) or by assigning references to other references. These can be deleted by: 1) using `del var`; 2) assigning variables to None (`var = None`); 3) going out of scope (scope is defined by identation in Python).\n",
    "\n",
    "**When the objects' reference count reaches 0 it is marked by deletion (thrash) and the garbage collector takes place.** This mechanism is used to automatically release memory when allocated objects are no longer in use. Garbage collection based on reference counting is the most basic mechanism. However, more complex methods can be used. We advise the student to read the following: [6] and [7]. In the following snipped we use the `sys.getrefcount()` function (that belongs to Python's standard library) to analyse the count of references as follows:\n",
    "\n",
    "\n",
    "```python\n",
    "# sys.getrefcount() prints the object's reference count\n",
    "# Its expected output is the actual reference count + 1\n",
    "import sys\n",
    "\n",
    "x = \"test\"\n",
    "sys.getrefcount(x)\n",
    "\n",
    "y = x\n",
    "sys.getrefcount(y)\n",
    "\n",
    "y = x + '2'\n",
    "sys.getrefcount(x)\n",
    "sys.getrefcount(y)\n",
    "\n",
    "z = \"test\"\n",
    "sys.getrefcount(z)\n",
    "\n",
    "z  = [\"test\", \"b\"]\n",
    "sys.getrefcount(z[0])\n",
    "sys.getrefcount(x)\n",
    "\n",
    "del(x)\n",
    "sys.getrefcount(z[0])\n",
    "```\n",
    "\n",
    "This snippet is a small example of the reference counting mechanism used in Python. The student can observe how \"variable assigning\" is in fact assigning names to references and how changing those assignments modifies the objects' reference count."
   ]
  },
  {
   "cell_type": "markdown",
   "id": "178d117d",
   "metadata": {},
   "source": [
    "### 2.3 Package installation and dependency management\n",
    "\n",
    "In the previous snippet we've used the import statement to import the system package into our code (`import sys`). This allowed to access functions and objects that are provided in the sys package, which is part of Python's standard library. Python's import system is composed by modules and packages. **Modules are individual .py files** from which we can import functions and objects, and **packages are a collection of modules**.\n",
    "\n",
    "To import both elements you can use the following types of imports:\n",
    "1. Standard import (with rename): Python will run the `numpy.py` file and make its namespace available under `numpy`. In this case, the namespace `numpy` is renamed to `np` for simplicity.\n",
    "```python\n",
    "# the module object for numpy is returned with the variable name `np`\n",
    ">>> import numpy as np\n",
    ">>> np.array([2., 3.])\n",
    "array([2., 3.])\n",
    "```\n",
    "2. Partial import: Import some components. Python will run the `numpy.py` file and make array and Inf available in the common namespace.\n",
    "```python\n",
    ">>> from numpy import array, Inf\n",
    ">>> np.array([2., 3.])\n",
    "array([2., 3.])\n",
    "```\n",
    "3. Global import: Import everything. Python will run the `numpy.py` file and make its namespace available in the common namespace (i.e., you can use array() without np.array()).\n",
    "```python\n",
    "# import all of the contents of `my_module`\n",
    ">>> from numpy import *\n",
    "```\n",
    "\n",
    "If you do:\n",
    "\n",
    "```python\n",
    "import xxx.yyy\n",
    "```\n",
    "- `xxx` is the **directory** that you want\n",
    "- `yyy.py` is the **file** you are importing\n",
    "\n",
    "When importing from a directory, Python will run any `__init__.py` file, if such a file exists. We will see how this works with packages.\n",
    "\n",
    "A package is composed by a directory that contains a file named `__init__.py`, modules and other subpackages (i.e., other directories with `__init__.py` files). The `__init__.py` file is used for indexation purposes and serves as an indicator to treat that directory as a package. Consider the following:\n",
    "```\n",
    "-> Tree of directories:\n",
    "\n",
    "- your current Jupyter notebook / console session\n",
    "- package/\n",
    "    |--__init__.py\n",
    "    |-- utils.py\n",
    "    |-- math/\n",
    "        |-- __init__.py\n",
    "        |-- calculus.py\n",
    "\n",
    "-> Contents of utils.py\n",
    "---\n",
    "def convert_to_string(a):\n",
    "    return string(a)\n",
    "---\n",
    "\n",
    "-> Contents of calculus.py\n",
    "---\n",
    "def divide_func(x, y):\n",
    "    return x / y\n",
    "---\n",
    "```\n",
    "Therefore, to access the contents of those modules the student will need to import the objects as follows:\n",
    "```python\n",
    "# importing a function from the `utils` module\n",
    ">>> from package.utils import convert_to_string\n",
    "\n",
    "# importing the entire `math` module\n",
    ">>> from package import math\n",
    "\n",
    "# importing a function from the `math` subpackage\n",
    ">>> from package.math.calculus import divide_func\n",
    "```\n",
    "\n",
    "What if the package we want to import was developed by other programmers? Do we need to have all the required packages by our code in our project folder (local)? How is it that we are able to import NumPy in any session or module without any knowledge of where that package is located?\n",
    "\n",
    "When a package is installed it is placed where the `PYTHONPATH` environment variable points to. It points to the location where the interpreter is installed. The specific folder where the packages are installed by default is `site-packages` directory. Python provides package managers to automatically download and install packages from the Python Package Index (PyPI) [8]. The two most commonly used package managers are pip and conda. To install a package via pip and conda the student can execute `pip install <package_name>` and `conda install <package_name>` respectively. In this lab script we will not dwelve much into their details. However, the student is advised to read the official docs related to [project packaging](https://packaging.python.org/en/latest/tutorials/packaging-projects/#packaging-your-project), [anaconda](https://conda.io/projects/conda/en/latest/user-guide/getting-started.html), [pip](https://pip.pypa.io/en/stable/) and [distutils for module/package distribution](https://docs.python.org/3/distutils/introduction.html#an-introduction-to-distutils)."
   ]
  },
  {
   "cell_type": "markdown",
   "id": "73145f25",
   "metadata": {},
   "source": [
    "### 2.4 Telling Python where the main() is located in a script\n",
    "\n",
    "In all the snippets shown so far, Python runs the entire file. However, you might want to arrange your code as you usually do in C.\n",
    "\n",
    "In this case, if you have a file that you want to run/import, but there is part of the code that you don't want to run, you can do:\n",
    "\n",
    "```python\n",
    "if __name__ == '__main__':\n",
    "    print('hey')\n",
    "```\n",
    "\n",
    "This will only print 'hey'. You can use it to develop your \"main()\". `__name__` is the name of the file, unless you are running the file explicitly, in which case its `\"__main__\"`."
   ]
  },
  {
   "cell_type": "markdown",
   "id": "6c54b323",
   "metadata": {},
   "source": [
    "\n",
    "Now that we shed some lights into Python's inner workings, the student is ready to learn its syntax and functionalities."
   ]
  },
  {
   "cell_type": "markdown",
   "id": "711bc01e-b31d-478b-88ec-b47da22a2fbb",
   "metadata": {},
   "source": [
    "## 4. Basic Object Types\n",
    "\n",
    "Object is anything that we can assign to a name/variable. This section entails all the basic object types that Python allows to use."
   ]
  },
  {
   "cell_type": "code",
   "execution_count": 23,
   "id": "d8f7d1a5-3443-4200-a27a-19b370839c40",
   "metadata": {},
   "outputs": [
    {
     "name": "stdout",
     "output_type": "stream",
     "text": [
      "5 <class 'int'>\n"
     ]
    }
   ],
   "source": [
    "# Integer variables\n",
    "x = 5\n",
    "print(x, type(x))"
   ]
  },
  {
   "cell_type": "code",
   "execution_count": 24,
   "id": "c41811c4-db25-442e-9f55-8b5581c954bd",
   "metadata": {},
   "outputs": [
    {
     "name": "stdout",
     "output_type": "stream",
     "text": [
      "5.0 <class 'float'>\n"
     ]
    }
   ],
   "source": [
    "# float variables\n",
    "x = 5.0\n",
    "print (x, type(x))"
   ]
  },
  {
   "cell_type": "code",
   "execution_count": 45,
   "id": "b4bd9816-6872-4d92-a7c4-c8bdd5351955",
   "metadata": {},
   "outputs": [
    {
     "name": "stdout",
     "output_type": "stream",
     "text": [
      "5 <class 'str'>\n"
     ]
    }
   ],
   "source": [
    "# String variables\n",
    "x = \"5\" \n",
    "print(x, type(x))"
   ]
  },
  {
   "cell_type": "code",
   "execution_count": 46,
   "id": "4590222b-d95c-404a-9be6-b7a9a7d06fb3",
   "metadata": {},
   "outputs": [
    {
     "name": "stdout",
     "output_type": "stream",
     "text": [
      "a = 12 and b = 10\n"
     ]
    }
   ],
   "source": [
    "# String: formating strings\n",
    "a = 12\n",
    "b = 10\n",
    "print(f\"a = {a} and b = {b}\")"
   ]
  },
  {
   "cell_type": "markdown",
   "id": "39603de7-0a8e-4844-9086-b27668082da4",
   "metadata": {},
   "source": [
    "A string is sequence of characters. Thus, parts of strings can be taken using the slice operator (`[ ]` and `[:]`) with indexes starting from 0 at the beginning of the string and working their way up to index ‘end – 1’. When you create a string you are essentially creating an object of the class string which contains several helper functions/methods:\n",
    "\n",
    "- Strip(): it removes all whitespaces from the beginning/end of the string.\n",
    "- Len(): returns the string length.\n",
    "- Lower(): transforms the contents of the string to lowercase.\n",
    "- Upper(): transforms the contents of the string to uppercase.\n",
    "- Replace(): replaces the string with another string.\n",
    "- Split(): splits the string into substrings if it finds separators (separator: comma)."
   ]
  },
  {
   "cell_type": "code",
   "execution_count": 47,
   "id": "fc34914c-3515-46ff-a7ec-95ca197bb59b",
   "metadata": {},
   "outputs": [
    {
     "name": "stdout",
     "output_type": "stream",
     "text": [
      "True <class 'bool'>\n"
     ]
    }
   ],
   "source": [
    "# boolean variables\n",
    "x = True\n",
    "print (x, type(x))"
   ]
  },
  {
   "cell_type": "markdown",
   "id": "a4ad52dc-770e-4c16-98c7-69e73383eb56",
   "metadata": {},
   "source": [
    "Logic operators with booleans\n",
    "\n",
    "| Logic Operator | Symbollic Operator |\n",
    "| ----------- | ----------- |\n",
    "| `and`   | `&` |\n",
    "| `or`   | `\\|` |"
   ]
  },
  {
   "cell_type": "code",
   "execution_count": 28,
   "id": "b69b217f-e4f7-43b5-9c95-355c324e80eb",
   "metadata": {},
   "outputs": [
    {
     "name": "stdout",
     "output_type": "stream",
     "text": [
      "8\n"
     ]
    }
   ],
   "source": [
    "# We need to pay attention to the type of variables we are using.\n",
    "# Common mistakes when performing operations\n",
    "\n",
    "# with int variables\n",
    "a = 5\n",
    "b = 3\n",
    "print(a + b)"
   ]
  },
  {
   "cell_type": "code",
   "execution_count": 29,
   "id": "018cfb5b-14a7-4045-b8f2-779d5c257869",
   "metadata": {},
   "outputs": [
    {
     "name": "stdout",
     "output_type": "stream",
     "text": [
      "53\n"
     ]
    }
   ],
   "source": [
    "# with string variables\n",
    "a = \"5\"\n",
    "b = \"3\"\n",
    "print(a + b)\n",
    "# This happens because we are concatenating strings using the '+' operation."
   ]
  },
  {
   "cell_type": "markdown",
   "id": "aa8bc0ce-5e00-42ec-ad37-c0d8b9e9a023",
   "metadata": {},
   "source": [
    "Number types and available operations:\n",
    "\n",
    "| Operation | Description |\n",
    "| ----------- | ----------- |\n",
    "| `x + y`   | Sum of two numbers |\n",
    "| `x - y`   | Difference of two numbers |\n",
    "| `x * y`   | Product of two numbers |\n",
    "| `x / y`   | Quotient of two numbers |\n",
    "| `x // y`  | Quotient of two numbers, returned as an integer |\n",
    "| `x % y`   | `x` \"modulo\": `y`: The remainder of `x / y` for positive `x`, `y` |\n",
    "| `x ** y`  | `x` raised to the power `y` |\n",
    "| `-x`      | A negated number |\n",
    "| `abs(x)`  | The absolute value of a number |\n",
    "| `x == y`  | Check if two numbers have the same value |\n",
    "| `x != y`  | Check if two numbers have different values |\n",
    "| `x > y`   | Check if `x` is greater than `y` |\n",
    "| `x >= y`  | Check if `x` is greater than or equal to `y` |\n",
    "| `x < y`   | Check if `x` is less than `y` |\n",
    "| `x <= y`  | Check if `x` is less than or equal to `y` |\n",
    "\n",
    "For more complex operations the student should use the math module available in the standard library. "
   ]
  },
  {
   "cell_type": "code",
   "execution_count": 30,
   "id": "bb9d36eb-d7ec-4b5b-865c-9759b915d4f8",
   "metadata": {},
   "outputs": [
    {
     "name": "stdout",
     "output_type": "stream",
     "text": [
      "<class 'int'> <class 'float'>\n"
     ]
    }
   ],
   "source": [
    "# Casting: Python's standard library provides functions \n",
    "# to convert one variable type into another.\n",
    "# It Works with all the basic object types\n",
    "\n",
    "x = 1\n",
    "y = float(x)\n",
    "print(type(x), type(y))"
   ]
  },
  {
   "cell_type": "markdown",
   "id": "89a99839-f31f-4c7f-a534-378cc66cf95e",
   "metadata": {},
   "source": [
    "### 5. Sequence Types\n",
    "\n",
    "#### 5.1. Lists\n",
    "\n",
    "List are defined through comma separated values enclosed by square brackers. Lists are mutable objects, which implies that the elements within can be changed and reordered. It can be comprised of many different types of variable objects due to the nature of the language, i.e., a list is a collection of pointers to objects. Similar to strings, lists contain large number of methods, thus we recommend consulting the [official docummentation](https://docs.python.org/3/tutorial/datastructures.html#more-on-lists)."
   ]
  },
  {
   "cell_type": "code",
   "execution_count": 31,
   "id": "8a0d3132-9a0a-415f-9218-826cd584df1a",
   "metadata": {},
   "outputs": [
    {
     "name": "stdout",
     "output_type": "stream",
     "text": [
      "[1, 2, 3]\n"
     ]
    }
   ],
   "source": [
    "l = [1, 2, 3]\n",
    "print(l)"
   ]
  },
  {
   "cell_type": "code",
   "execution_count": 32,
   "id": "4d4bf30e-b8c3-4426-9986-8d428f8bd36c",
   "metadata": {},
   "outputs": [
    {
     "name": "stdout",
     "output_type": "stream",
     "text": [
      "2\n"
     ]
    }
   ],
   "source": [
    "# Print the second element of the string\n",
    "print(l[1])  # second element!"
   ]
  },
  {
   "cell_type": "code",
   "execution_count": 33,
   "id": "05bfd300-3343-4390-87a5-04511b9ab98e",
   "metadata": {},
   "outputs": [
    {
     "name": "stdout",
     "output_type": "stream",
     "text": [
      "[1, 2, 3, 7, True, None] 6\n"
     ]
    }
   ],
   "source": [
    "# Adding to a list\n",
    "\n",
    "# use `append` to add a single object to the end of a list\n",
    "l.append(7)\n",
    "\n",
    "# use `extend` to add a sequence of items to the end of a list\n",
    "l.extend([True, None])\n",
    "\n",
    "\n",
    "print(l, len(l)) # Size of list\n",
    "\n",
    "# Sidenote: to remove from a list you can consult\n",
    "# the official documentation for the methods pop() and remove()"
   ]
  },
  {
   "cell_type": "code",
   "execution_count": 34,
   "id": "37365615-4ee3-420d-ab55-00e911ee3bc0",
   "metadata": {},
   "outputs": [
    {
     "name": "stdout",
     "output_type": "stream",
     "text": [
      "[1, 'bye', 3, 7, True, None]\n"
     ]
    }
   ],
   "source": [
    "# change the second element of the list to the string \"bye\"\n",
    "l[1] = \"bye\"\n",
    "print(l)"
   ]
  },
  {
   "cell_type": "code",
   "execution_count": 35,
   "id": "54f82612-2a74-4060-856a-18d126119c29",
   "metadata": {},
   "outputs": [
    {
     "name": "stdout",
     "output_type": "stream",
     "text": [
      "[1, 'bye', -3, -4, True, None]\n"
     ]
    }
   ],
   "source": [
    "# replace a subsequence of `l`: using slicing\n",
    "\n",
    "# start:2, stop:4, step:1\n",
    "l[2:4:1] = [-3, -4]\n",
    "print(l)"
   ]
  },
  {
   "cell_type": "code",
   "execution_count": 36,
   "id": "079bc943-8961-4b81-a621-9880b35a60e0",
   "metadata": {},
   "outputs": [
    {
     "name": "stdout",
     "output_type": "stream",
     "text": [
      "[1, 'bye', -3, -4, True, None, 8, 8]\n"
     ]
    }
   ],
   "source": [
    "l.append(8)  # add a single item\n",
    "l += [8]  # add one or more items\n",
    "print(l)"
   ]
  },
  {
   "cell_type": "code",
   "execution_count": 37,
   "id": "989313b4-152a-4d30-b42e-911c80d96e78",
   "metadata": {},
   "outputs": [
    {
     "name": "stdout",
     "output_type": "stream",
     "text": [
      "[1, 'bye', -3, -4, True, None, 8, 8, 2.4, 'world']\n"
     ]
    }
   ],
   "source": [
    "# Operations with lists\n",
    "y = [2.4, \"world\"]\n",
    "z = l + y\n",
    "print(z)"
   ]
  },
  {
   "cell_type": "code",
   "execution_count": 38,
   "id": "9ba07ee2-aef4-4847-8f6b-770c9eaeadf6",
   "metadata": {},
   "outputs": [
    {
     "name": "stdout",
     "output_type": "stream",
     "text": [
      "y (for loop) = [3, 4, 5]\n",
      "y (l. comprehension) = [3, 4, 5]\n"
     ]
    }
   ],
   "source": [
    "# List comprehension: use loops to create lists in succint code\n",
    "\n",
    "# example: using a typical for loop\n",
    "x = [1, 2, 3, 4, 5]\n",
    "y = []\n",
    "for item in x:\n",
    "    if item > 2:\n",
    "        y.append(item)\n",
    "print(f\"y (for loop) = {y}\")\n",
    "\n",
    "# using list comprehension\n",
    "y = [item for item in x if item > 2]\n",
    "print(f\"y (l. comprehension) = {y}\")"
   ]
  },
  {
   "cell_type": "markdown",
   "id": "afd745b2-c2f6-4a2e-ba4c-e53e73dc6c99",
   "metadata": {},
   "source": [
    "##### <span style=\"color:red\">QUESTIONS:</span> lists"
   ]
  },
  {
   "cell_type": "code",
   "execution_count": 3,
   "id": "18620b31-581e-4bf7-9e09-9ba0c77bcb30",
   "metadata": {},
   "outputs": [],
   "source": [
    "# 1. Create a list with only one entry which is the None object.\n",
    "l = [None]"
   ]
  },
  {
   "cell_type": "code",
   "execution_count": 4,
   "id": "22448fa3-ad8b-4d80-afb4-373d7681f247",
   "metadata": {},
   "outputs": [
    {
     "name": "stdout",
     "output_type": "stream",
     "text": [
      "[2, True, 'hello', 3.5, (3+5j)]\n"
     ]
    }
   ],
   "source": [
    "# 2. Assign the variable k to a list that contains an integer,\n",
    "#    a boolean, and a string, in that order. Then, add two more\n",
    "#    entries to the end of the list - a float and a complex number\n",
    "# Note: use the complex() function - check docs\n",
    "\n",
    "k = [2, True, \"hello\"]\n",
    "k.extend([3.5, complex(3,5)])"
   ]
  },
  {
   "cell_type": "code",
   "execution_count": 6,
   "id": "293ddb44-1ace-4e3b-9c2a-2a4101a79488",
   "metadata": {},
   "outputs": [
    {
     "name": "stdout",
     "output_type": "stream",
     "text": [
      "['Bob', 'Jane', 'Ryan', 'Zordon', 'Jack', 'Jackenzie', 'Adam']\n",
      "['Adam', 'Bob', 'Jack', 'Jackenzie', 'Jane', 'Ryan', 'Zordon']\n"
     ]
    }
   ],
   "source": [
    "# 3. Alphabetize the following list of names:\n",
    "list = ['Bob', 'Jane', 'Ryan', 'Zordon', 'Jack', 'Jackenzie', 'Adam']\n",
    "sorted_list = sorted(list)\n",
    "print(list)\n",
    "print(sorted_list)"
   ]
  },
  {
   "cell_type": "markdown",
   "id": "4bce4e46-2f61-4ad9-aa39-c5a6f47ad028",
   "metadata": {},
   "source": [
    "#### Tuples\n",
    "\n",
    "Tuples are collections of ordered values but are immutable (unchangeable). Tuples are used to store values that will never be changed."
   ]
  },
  {
   "cell_type": "code",
   "execution_count": 42,
   "id": "3b8a8401-131f-4134-bd53-4250378d3841",
   "metadata": {},
   "outputs": [
    {
     "name": "stdout",
     "output_type": "stream",
     "text": [
      "(3.0, 'hello')\n"
     ]
    }
   ],
   "source": [
    "# Creating a tuple\n",
    "x = (3.0, \"hello\") # tuples start and end with ()\n",
    "print (x)"
   ]
  },
  {
   "cell_type": "code",
   "execution_count": 43,
   "id": "db77f141-f351-4971-b205-6ed32aaf9dcd",
   "metadata": {},
   "outputs": [
    {
     "name": "stdout",
     "output_type": "stream",
     "text": [
      "(3.0, 'hello', 5.6, 4)\n"
     ]
    }
   ],
   "source": [
    "# Adding values to a tuple\n",
    "x = x + (5.6, 4)\n",
    "print (x)"
   ]
  },
  {
   "cell_type": "code",
   "execution_count": 7,
   "id": "7ea9d6a6-4a98-4896-82f0-df5e2fb10b59",
   "metadata": {},
   "outputs": [
    {
     "ename": "NameError",
     "evalue": "name 'x' is not defined",
     "output_type": "error",
     "traceback": [
      "\u001b[1;31m---------------------------------------------------------------------------\u001b[0m",
      "\u001b[1;31mNameError\u001b[0m                                 Traceback (most recent call last)",
      "\u001b[1;32m~\\AppData\\Local\\Temp\\ipykernel_15528\\957477654.py\u001b[0m in \u001b[0;36m<module>\u001b[1;34m\u001b[0m\n\u001b[0;32m      1\u001b[0m \u001b[1;31m# Try to change (it won't work and we get an error)\u001b[0m\u001b[1;33m\u001b[0m\u001b[1;33m\u001b[0m\u001b[0m\n\u001b[1;32m----> 2\u001b[1;33m \u001b[0mx\u001b[0m\u001b[1;33m[\u001b[0m\u001b[1;36m0\u001b[0m\u001b[1;33m]\u001b[0m \u001b[1;33m=\u001b[0m \u001b[1;36m1.2\u001b[0m\u001b[1;33m\u001b[0m\u001b[1;33m\u001b[0m\u001b[0m\n\u001b[0m",
      "\u001b[1;31mNameError\u001b[0m: name 'x' is not defined"
     ]
    }
   ],
   "source": [
    "# Try to change (it won't work and we get an error)\n",
    "x[0] = 1.2"
   ]
  },
  {
   "cell_type": "markdown",
   "id": "5dcf4941-da34-47da-9c9d-454f9c4f587a",
   "metadata": {},
   "source": [
    "#### 5.2. Sets\n",
    "Sets are mutable collections of unordered values. However, every item in a set must be unique (no duplicates). These object types are mutable. However, the student can use the 'frozenset' type, which is a immutable version of sets (frozenset(x))."
   ]
  },
  {
   "cell_type": "code",
   "execution_count": null,
   "id": "d23cd54d-af70-40f3-9763-075f97b3c8cc",
   "metadata": {},
   "outputs": [
    {
     "name": "stdout",
     "output_type": "stream",
     "text": [
      "{'n', ' ', 'L', 'P', 'a', 'e', 't', 'h', 'o', 'r', 'y'}\n",
      "{'Learn', 'Python'}\n"
     ]
    }
   ],
   "source": [
    "# Sets\n",
    "text = \"Learn Python\"\n",
    "print(set(text))\n",
    "print(set(text.split(\" \")))"
   ]
  },
  {
   "cell_type": "code",
   "execution_count": null,
   "id": "e062de14-8826-4e08-b93c-9fa50c34f047",
   "metadata": {},
   "outputs": [
    {
     "data": {
      "text/plain": [
       "{(1, 2, 3), 1, 3.4, False, 'apple'}"
      ]
     },
     "execution_count": 111,
     "metadata": {},
     "output_type": "execute_result"
    }
   ],
   "source": [
    "# initializing a set containing various immutable objects\n",
    "{1, 3.4, \"apple\", False, (1, 2, 3)}"
   ]
  },
  {
   "cell_type": "code",
   "execution_count": null,
   "id": "d9774712-f042-40f5-93fe-0c57fed2f196",
   "metadata": {},
   "outputs": [
    {
     "data": {
      "text/plain": [
       "{0, 1, 4, 16}"
      ]
     },
     "execution_count": 110,
     "metadata": {},
     "output_type": "execute_result"
    }
   ],
   "source": [
    "# initialization via set-comprehension\n",
    "{i**2 for i in range(5) if i != 3}"
   ]
  },
  {
   "cell_type": "code",
   "execution_count": null,
   "id": "fecc8933-363a-404e-bf48-4b5fec3a601a",
   "metadata": {},
   "outputs": [
    {
     "data": {
      "text/plain": [
       "set()"
      ]
     },
     "execution_count": 109,
     "metadata": {},
     "output_type": "execute_result"
    }
   ],
   "source": [
    "# creating an empty set\n",
    "set()  # specifying `{}` would create an empty *dictionary*"
   ]
  },
  {
   "cell_type": "code",
   "execution_count": null,
   "id": "23bd4c7b-b254-4924-8624-b62d16c9df08",
   "metadata": {},
   "outputs": [
    {
     "data": {
      "text/plain": [
       "{1, 2, 'moo'}"
      ]
     },
     "execution_count": 113,
     "metadata": {},
     "output_type": "execute_result"
    }
   ],
   "source": [
    "# filter repeat-items from a collection by feeding it into a set\n",
    "x = [1, 2, 1, 2, 1, \"moo\", \"moo\"]\n",
    "set(x)"
   ]
  },
  {
   "cell_type": "code",
   "execution_count": null,
   "id": "4d0c094f-2019-4d3f-89c3-352ebb67ba69",
   "metadata": {},
   "outputs": [
    {
     "name": "stdout",
     "output_type": "stream",
     "text": [
      "{'dog', 'b', 'a', 'c', 'd'}\n"
     ]
    }
   ],
   "source": [
    "# add a single member to `x`\n",
    "x.add(\"dog\")\n",
    "print(x)"
   ]
  },
  {
   "cell_type": "code",
   "execution_count": null,
   "id": "e308bd29-440f-4847-a47f-394f5b3eb6ae",
   "metadata": {},
   "outputs": [
    {
     "name": "stdout",
     "output_type": "stream",
     "text": [
      "{1, 2, 3, 'dog', 'b', 'c', 'd'}\n"
     ]
    }
   ],
   "source": [
    "# update `x` by adding members of an iterable\n",
    "x.update([1, 2, 3])\n",
    "print(x)"
   ]
  },
  {
   "cell_type": "code",
   "execution_count": null,
   "id": "b1445973-c336-45c8-b652-84791087592c",
   "metadata": {},
   "outputs": [
    {
     "name": "stdout",
     "output_type": "stream",
     "text": [
      "{'dog', 'b', 'c', 'd'}\n"
     ]
    }
   ],
   "source": [
    "# remove a member of `x`\n",
    "x.remove(\"a\")\n",
    "print(x)"
   ]
  },
  {
   "cell_type": "code",
   "execution_count": 8,
   "id": "3a31485d-5819-4588-abec-7406767fe126",
   "metadata": {},
   "outputs": [
    {
     "name": "stdout",
     "output_type": "stream",
     "text": [
      "union: {'b', 'd', 'c', 'e', 'a'}\n",
      "intersection: {'b', 'a'}\n",
      "difference: {'d', 'c'}\n",
      "symmetric difference: {'d', 'c', 'e'}\n",
      "superset: True\n",
      "equivalent set: False\n"
     ]
    }
   ],
   "source": [
    "# Set operations\n",
    "# demonstrating set-comparison operations\n",
    "x = {\"a\", \"b\", \"c\", \"d\"}\n",
    "y = {\"a\", \"b\", \"e\"}\n",
    "\n",
    "# union: items in x or y, or both\n",
    "set_op1 = x | y  # or x.union(y)\n",
    "print(f\"union: {set_op1}\")\n",
    "\n",
    "# intersection: items in both x and y\n",
    "set_op2 = x & y  # or x.intersection(y)\n",
    "print(f\"intersection: {set_op2}\")\n",
    "\n",
    "# difference: items in x but not in y\n",
    "set_op3 = x - y  # or x.difference(y)\n",
    "print(f\"difference: {set_op3}\")\n",
    "\n",
    "# symmetric difference: in x or y, but not in both\n",
    "set_op4 = x ^ y  # or x.symmetric_difference\n",
    "print(f\"symmetric difference: {set_op4}\")\n",
    "\n",
    "# check if set_1 is a superset of set_2\n",
    "set_op5 = {1, 2, 3, 4} >= {1, 2}\n",
    "print(f\"superset: {set_op5}\")\n",
    "\n",
    "# check if set_1 and set_2 are equivalent sets\n",
    "set_op6 = {1, 2, 3, 4} == {1, 2}\n",
    "print(f\"equivalent set: {set_op6}\")"
   ]
  },
  {
   "cell_type": "markdown",
   "id": "ddc07125-4bea-47e1-b5a4-ef26e174c37c",
   "metadata": {},
   "source": [
    "##### <span style=\"color:red\">QUESTIONS:</span> sets"
   ]
  },
  {
   "cell_type": "code",
   "execution_count": 82,
   "id": "e5257c1f-14d8-486c-8e20-7ea143b9fda0",
   "metadata": {},
   "outputs": [
    {
     "name": "stdout",
     "output_type": "stream",
     "text": [
      "thecatinthehat\n"
     ]
    },
    {
     "ename": "TypeError",
     "evalue": "'str' object is not callable",
     "output_type": "error",
     "traceback": [
      "\u001b[1;31m---------------------------------------------------------------------------\u001b[0m",
      "\u001b[1;31mTypeError\u001b[0m                                 Traceback (most recent call last)",
      "\u001b[1;32m~\\AppData\\Local\\Temp\\ipykernel_15528\\1132498380.py\u001b[0m in \u001b[0;36m<module>\u001b[1;34m\u001b[0m\n\u001b[0;32m     10\u001b[0m \u001b[0mprint\u001b[0m\u001b[1;33m(\u001b[0m\u001b[0mx\u001b[0m\u001b[1;33m)\u001b[0m\u001b[1;33m\u001b[0m\u001b[1;33m\u001b[0m\u001b[0m\n\u001b[0;32m     11\u001b[0m \u001b[0my\u001b[0m\u001b[1;33m=\u001b[0m\u001b[1;33m{\u001b[0m\u001b[1;34m'a'\u001b[0m\u001b[1;33m,\u001b[0m \u001b[1;34m'c'\u001b[0m\u001b[1;33m,\u001b[0m \u001b[1;34m'e'\u001b[0m\u001b[1;33m,\u001b[0m \u001b[1;34m'h'\u001b[0m\u001b[1;33m,\u001b[0m \u001b[1;34m'i'\u001b[0m\u001b[1;33m,\u001b[0m \u001b[1;34m'n'\u001b[0m\u001b[1;33m,\u001b[0m \u001b[1;34m't'\u001b[0m\u001b[1;33m}\u001b[0m\u001b[1;33m\u001b[0m\u001b[1;33m\u001b[0m\u001b[0m\n\u001b[1;32m---> 12\u001b[1;33m \u001b[0mset_op2\u001b[0m \u001b[1;33m=\u001b[0m \u001b[0mset\u001b[0m\u001b[1;33m(\u001b[0m\u001b[0mx\u001b[0m\u001b[1;33m)\u001b[0m \u001b[1;33m&\u001b[0m \u001b[0my\u001b[0m\u001b[1;33m\u001b[0m\u001b[1;33m\u001b[0m\u001b[0m\n\u001b[0m\u001b[0;32m     13\u001b[0m \u001b[0mprint\u001b[0m\u001b[1;33m(\u001b[0m\u001b[1;34mf\"intersection: {set_op2}\"\u001b[0m\u001b[1;33m)\u001b[0m\u001b[1;33m\u001b[0m\u001b[1;33m\u001b[0m\u001b[0m\n",
      "\u001b[1;31mTypeError\u001b[0m: 'str' object is not callable"
     ]
    }
   ],
   "source": [
    "# 1. Use a set to find all of the unique letters in the string \n",
    "#    \"The cat in the hat\". Ignore all non-letter characters and \n",
    "#    lowercase all letters.\n",
    "\n",
    "# Sidenote: Use the built-in string functions isalpha() and lower() \n",
    "# to filter out non-letter characters, and to lowercase the letters.\n",
    "x=\"The cat in the hat\" \n",
    "x=x.lower()\n",
    "x=x.replace(\" \",\"\")\n",
    "print(x)\n",
    "y={'a', 'c', 'e', 'h', 'i', 'n', 't'}\n",
    "set_op2 = set(x) & y  \n",
    "print(f\"intersection: {set_op2}\")\n"
   ]
  },
  {
   "cell_type": "markdown",
   "id": "0193b015-9476-4b23-9ee7-cdb34d06ca7e",
   "metadata": {},
   "source": [
    "#### 5.3. Dictionaries\n",
    "\n",
    "Dictionaries are an unordered, mutable and indexed collection of key-value pairs. You can retrieve values based on the key and a dictionary cannot have two of the same keys."
   ]
  },
  {
   "cell_type": "code",
   "execution_count": null,
   "id": "523873aa-436e-48ae-b503-4af78809ce5f",
   "metadata": {},
   "outputs": [
    {
     "name": "stdout",
     "output_type": "stream",
     "text": [
      "{'name': 'Goku', 'eye_color': 'brown'}\n",
      "Goku\n",
      "brown\n"
     ]
    }
   ],
   "source": [
    "# Creating a dictionary\n",
    "person = {\"name\": \"Goku\", \"eye_color\": \"brown\"}\n",
    "\n",
    "print(person)\n",
    "print(person[\"name\"])\n",
    "print(person[\"eye_color\"])"
   ]
  },
  {
   "cell_type": "code",
   "execution_count": null,
   "id": "44b91407-3698-4e76-8446-639f9a5118f1",
   "metadata": {},
   "outputs": [
    {
     "name": "stdout",
     "output_type": "stream",
     "text": [
      "{'name': 'Goku', 'eye_color': 'green'}\n"
     ]
    }
   ],
   "source": [
    "# Changing the value for a key\n",
    "person[\"eye_color\"] = \"green\"\n",
    "print (person)"
   ]
  },
  {
   "cell_type": "code",
   "execution_count": null,
   "id": "2d742751-1d3d-49ce-91b5-e5a8171395f2",
   "metadata": {},
   "outputs": [
    {
     "name": "stdout",
     "output_type": "stream",
     "text": [
      "{'name': 'Goku', 'eye_color': 'green', 'age': 24}\n"
     ]
    }
   ],
   "source": [
    "# Adding new key-value pairs\n",
    "person[\"age\"] = 24\n",
    "print (person)"
   ]
  },
  {
   "cell_type": "code",
   "execution_count": null,
   "id": "2e37da0b-031a-457c-bcf4-a55952de4a68",
   "metadata": {},
   "outputs": [],
   "source": [
    "# Length of a dictionary\n",
    "print (len(person))"
   ]
  },
  {
   "cell_type": "markdown",
   "id": "01d64f64-6fd2-4334-b1b4-f525073cfde1",
   "metadata": {},
   "source": [
    "##### <span style=\"color:red\">QUESTIONS:</span> dictionaries"
   ]
  },
  {
   "cell_type": "code",
   "execution_count": 47,
   "id": "0446734a-0515-4d1e-8894-1642fe302e08",
   "metadata": {},
   "outputs": [
    {
     "name": "stdout",
     "output_type": "stream",
     "text": [
      "{'Ashley': 0.92, 'David': 0.72, 'Edward': 0.88, 'Zoe': 0.77}\n",
      "{'Ashley': 0.92, 'David': 0.72, 'Edward': 0.88, 'Zoe': 0.79}\n",
      "{'Ashley': 0.92, 'David': 0.72, 'Edward': 0.88, 'Zoe': 0.79, 'Ryan': 0.34}\n"
     ]
    }
   ],
   "source": [
    "# Given the tuple of student names (Ashley, David, Edward, Zoe), \n",
    "# and their corresponding exam grades (0.92, 0.72, 0.88, 0.77):\n",
    "#    1) Create a dictionary that maps: name -> grade.\n",
    "#    2) Update Zoe’s grade to .79\n",
    "#    3) Add a new student, Ryan, whose grade is 0.34.\n",
    "notes = {\"Ashley\": 0.92, \"David\": 0.72, \"Edward\": 0.88, \"Zoe\": 0.77}\n",
    "print(notes)\n",
    "notes[\"Zoe\"] = 0.79\n",
    "print(notes)\n",
    "notes[\"Ryan\"] = 0.34\n",
    "print(notes)"
   ]
  },
  {
   "cell_type": "markdown",
   "id": "f8a18f4c-f20c-4159-a16d-59816f9c4391",
   "metadata": {},
   "source": [
    "### 6. Control Flow"
   ]
  },
  {
   "cell_type": "markdown",
   "id": "219023ed-ff45-460f-989e-8a1377fef71e",
   "metadata": {},
   "source": [
    "#### 6.1. Conditional statements (if)"
   ]
  },
  {
   "cell_type": "code",
   "execution_count": null,
   "id": "d2553c3c-d4e2-4c32-b5a2-b6e05e928d6e",
   "metadata": {},
   "outputs": [
    {
     "name": "stdout",
     "output_type": "stream",
     "text": [
      "medium\n",
      "it worked\n"
     ]
    }
   ],
   "source": [
    "x = 4\n",
    "if x < 1:\n",
    "    score = \"low\"\n",
    "elif x <= 4: # elif = else if\n",
    "    score = \"medium\"\n",
    "else:\n",
    "    score = \"high\"\n",
    "print(score)\n",
    "\n",
    "# if statement with a boolean\n",
    "x = True\n",
    "if x:\n",
    "    print(\"it worked\")"
   ]
  },
  {
   "cell_type": "markdown",
   "id": "a333857c-96e8-43f5-9033-9f6368a78af0",
   "metadata": {},
   "source": [
    "#### 6.2. For-loops"
   ]
  },
  {
   "cell_type": "code",
   "execution_count": null,
   "id": "dc6a455b-dc92-4d47-9a6c-13c646765c38",
   "metadata": {},
   "outputs": [
    {
     "name": "stdout",
     "output_type": "stream",
     "text": [
      "carrots\n",
      "broccoli\n",
      "beans\n"
     ]
    }
   ],
   "source": [
    "veggies = [\"carrots\", \"broccoli\", \"beans\"]\n",
    "for veggie in veggies:\n",
    "    print(veggie)"
   ]
  },
  {
   "cell_type": "code",
   "execution_count": null,
   "id": "362c75eb-305a-44c6-b64f-b4b70c9b94ae",
   "metadata": {},
   "outputs": [
    {
     "name": "stdout",
     "output_type": "stream",
     "text": [
      "carrots\n"
     ]
    }
   ],
   "source": [
    "# `break` from a for loop = stop\n",
    "veggies = [\"carrots\", \"broccoli\", \"beans\"]\n",
    "for veggie in veggies:\n",
    "    if veggie == \"broccoli\":\n",
    "        break\n",
    "    print(veggie)"
   ]
  },
  {
   "cell_type": "code",
   "execution_count": null,
   "id": "1035ad4e-6099-4886-a626-20679632158a",
   "metadata": {},
   "outputs": [
    {
     "name": "stdout",
     "output_type": "stream",
     "text": [
      "carrots\n",
      "beans\n"
     ]
    }
   ],
   "source": [
    "# `continue` to the next iteration = skip\n",
    "veggies = [\"carrots\", \"broccoli\", \"beans\"]\n",
    "for veggie in veggies:\n",
    "    if veggie == \"broccoli\":\n",
    "        continue\n",
    "    print(veggie)"
   ]
  },
  {
   "cell_type": "markdown",
   "id": "5b0afbcd-e4f5-4ace-810e-11b9e438c54f",
   "metadata": {},
   "source": [
    "#### 6.3. While-loops"
   ]
  },
  {
   "cell_type": "code",
   "execution_count": null,
   "id": "a5c9a2bd-3266-47e9-9e58-7d23d54267ae",
   "metadata": {},
   "outputs": [
    {
     "name": "stdout",
     "output_type": "stream",
     "text": [
      "2\n",
      "1\n",
      "0\n"
     ]
    }
   ],
   "source": [
    "# While loop\n",
    "x = 3\n",
    "while x > 0:\n",
    "    x -= 1 # same as x = x - 1\n",
    "    print(x)"
   ]
  },
  {
   "cell_type": "markdown",
   "id": "880b4fc1-82dd-4077-8ca5-9f72def9a3e5",
   "metadata": {},
   "source": [
    "#### 6.4. Generators\n",
    "\n",
    "Generators allows to generate arbitrarily-many items in a series, without having to store them all in memory at once. You can use them to iterate through a fixed sequence of values."
   ]
  },
  {
   "cell_type": "code",
   "execution_count": null,
   "id": "d0ae45a8-7309-4335-9d8b-f442eb20df63",
   "metadata": {},
   "outputs": [
    {
     "name": "stdout",
     "output_type": "stream",
     "text": [
      "2\n",
      "3\n",
      "4\n",
      "5\n",
      "6\n"
     ]
    }
   ],
   "source": [
    "# the range() operator/generator\n",
    "\n",
    "# start: 2  (included)\n",
    "#  stop: 7  (excluded)\n",
    "#  step: 1  (default)\n",
    "for i in range(2, 7):\n",
    "    print(i)"
   ]
  },
  {
   "cell_type": "code",
   "execution_count": null,
   "id": "ecd5c371-3100-4d32-8879-24ae24e63b4d",
   "metadata": {},
   "outputs": [
    {
     "name": "stdout",
     "output_type": "stream",
     "text": [
      "0 2\n",
      "1 3\n",
      "2 4\n",
      "3 5\n",
      "4 6\n"
     ]
    }
   ],
   "source": [
    "# the enumerate() operator - used to create an index key\n",
    "\n",
    "for idx, i in enumerate(range(2, 7)):\n",
    "    print(idx, i)"
   ]
  },
  {
   "cell_type": "code",
   "execution_count": null,
   "id": "34e8e118-3e48-4f07-a2bf-1d471a73b32a",
   "metadata": {},
   "outputs": [
    {
     "name": "stdout",
     "output_type": "stream",
     "text": [
      "1\n",
      "3\n",
      "5\n",
      "7\n",
      "9\n"
     ]
    }
   ],
   "source": [
    "# to create your own generator you can define the following\n",
    "\n",
    "def generator():\n",
    "    for i in range(10):\n",
    "        if bool(i % 2):\n",
    "            # indicates where a value is sent back to the caller, \n",
    "            # but unlike return, you don’t exit the function afterwards\n",
    "            yield i\n",
    "\n",
    "for item in generator():\n",
    "    print(item)"
   ]
  },
  {
   "cell_type": "markdown",
   "id": "138ba69b-dc30-4c8a-a767-61ee58bd68c2",
   "metadata": {},
   "source": [
    "### 7. Functions\n",
    "\n",
    "To define a function, Python uses the keyword def. Then, to execute this function, just call it by its name:"
   ]
  },
  {
   "cell_type": "code",
   "execution_count": null,
   "id": "3baa4882-6c67-48a7-8774-0021dbdda1b9",
   "metadata": {},
   "outputs": [
    {
     "name": "stdout",
     "output_type": "stream",
     "text": [
      "5\n",
      "3\n"
     ]
    }
   ],
   "source": [
    "# Define the function\n",
    "\n",
    "def add_two(x = 1):\n",
    "    \"\"\"Increase x by 2.\"\"\" # explains what this function will do\n",
    "    x += 2\n",
    "    return x\n",
    "\n",
    "print(add_two(3))\n",
    "print(add_two()) # it will use the default values"
   ]
  },
  {
   "cell_type": "code",
   "execution_count": null,
   "id": "c4e32904-bd15-4fd5-90e5-aab8f1fb593b",
   "metadata": {},
   "outputs": [
    {
     "name": "stdout",
     "output_type": "stream",
     "text": [
      "Multimedia Systems\n"
     ]
    }
   ],
   "source": [
    "# Function with multiple inputs\n",
    "def join_name(first_name, last_name):\n",
    "    \"\"\"Combine first name and last name.\"\"\"\n",
    "    joined_name = first_name + \" \" + last_name\n",
    "    return joined_name\n",
    "\n",
    "# Use the function\n",
    "first_name = \"Multimedia\"\n",
    "last_name = \"Systems\"\n",
    "joined_name = join_name(first_name=first_name, last_name=last_name)\n",
    "print(joined_name)"
   ]
  },
  {
   "cell_type": "markdown",
   "id": "1d851530-1a01-4384-ae38-56aabdf5cf18",
   "metadata": {},
   "source": [
    "It's good practice to always use keyword argument when using a function so that it's very clear what input variable belongs to what function input parameter. Alternatively, you can use the terms ***args** and ****kwargs** which stand for arguments and keyword arguments. You can extract them when they are passed into a function. The symbol * establishes that any number of arguments and keyword arguments can be passed into the function."
   ]
  },
  {
   "cell_type": "code",
   "execution_count": null,
   "id": "7a425f57-4191-4fcf-9734-9aa0f8f59553",
   "metadata": {},
   "outputs": [
    {
     "name": "stdout",
     "output_type": "stream",
     "text": [
      "x: 5, y: 2\n"
     ]
    }
   ],
   "source": [
    "def f(*args, **kwargs):\n",
    "    x = args[0]\n",
    "    y = kwargs.get(\"y\")\n",
    "    print (f\"x: {x}, y: {y}\")\n",
    "\n",
    "f(5, y=2)"
   ]
  },
  {
   "cell_type": "markdown",
   "id": "0c10af95-2366-42dd-beb5-51f07084817d",
   "metadata": {},
   "source": [
    "##### <span style=\"color:red\">QUESTIONS:</span> control flow and functions\n",
    "\n",
    "Function to see if a given number is a prime number or not:\n",
    "\n",
    "```matlab\n",
    "function ret = is_prime(n)\n",
    "    ret = true;\n",
    "    for m = 2:sqrt(n)\n",
    "        if mod(n, m) == 0\n",
    "            ret = false;\n",
    "            break\n",
    "        end\n",
    "    end\n",
    "end\n",
    "```\n",
    "Convert this MATLAB code into Python.\n",
    "\n",
    "*Remember:* A number is prime if it is not divisible by any number other than 1 and itself."
   ]
  },
  {
   "cell_type": "code",
   "execution_count": 2,
   "id": "65af868a-6c6b-418d-9d9a-151cdaab6491",
   "metadata": {},
   "outputs": [
    {
     "name": "stdout",
     "output_type": "stream",
     "text": [
      "True\n",
      "True\n",
      "True\n",
      "False\n",
      "True\n",
      "False\n",
      "True\n",
      "False\n",
      "False\n"
     ]
    }
   ],
   "source": [
    "# Write your answer here:\n",
    "from math import sqrt\n",
    "def is_prime(n):\n",
    "    ret = True\n",
    "    for m in range(2, int(sqrt(n))+1):\n",
    "        if n % m == 0:\n",
    "            ret = False\n",
    "            break\n",
    "    if n == 0:\n",
    "        ret = False\n",
    "    return ret\n",
    "# TEST:\n",
    "for n in range(1, 10):\n",
    "    print(is_prime(n))"
   ]
  },
  {
   "cell_type": "markdown",
   "id": "6f07a14d-f336-47b4-bb9e-48238a71eed6",
   "metadata": {},
   "source": [
    "Expected Output: True, True, True, False, True, False, True, False, False"
   ]
  },
  {
   "cell_type": "markdown",
   "id": "b0103cd8-9d9c-452c-beb5-8b8ddbdf2422",
   "metadata": {},
   "source": [
    "### 8. Object Oriented Programming\n",
    "\n",
    "So far we only introduced the basic object types without explaining what is an object. Objects are the basic data representation within Python, they are an instance of a class. Their type is defined using a class, which is a blueprint to create objects, usually composed by a set of functions that define the different attributes and methods (i.e., functions bound to objects).\n",
    "\n",
    "- Attributes: variable fields that characterize and shape a class/object\n",
    "- Methods: functions bound to objects/classes\n",
    "\n",
    "*Sidenote*: programmers usually use the word “type” to refer to Python's built-in types (e.g. int and str - basic object types) and “class” to refer to user-defined types."
   ]
  },
  {
   "cell_type": "markdown",
   "id": "b25bec0f-0967-4c66-a811-66cc84ca2d9d",
   "metadata": {},
   "source": [
    "#### 8.1. Classes\n",
    "\n",
    "*Sidenote*: methods defined using \\_\\_(something)\\_\\_ are Python's magic methods. They're always surrounded by double underscores (e.g. \\_\\_init\\_\\_).\n",
    "For more information, check [this tutorial by Rafe Kettler on Python's magic methods](https://rszalski.github.io/magicmethods). For more information on the definition of class objects check [Python's official tutorial](https://docs.python.org/3/tutorial/classes.html#class-objects)."
   ]
  },
  {
   "cell_type": "code",
   "execution_count": 3,
   "id": "c2250d8d-7d9e-4436-a89f-5c2c9d4a4343",
   "metadata": {},
   "outputs": [
    {
     "name": "stdout",
     "output_type": "stream",
     "text": [
      "Rectangle(width=10, height=10, center=(0, 0.3)): area = 100\n",
      "<bound method Rectangle.rect_class_method of <class '__main__.Rectangle'>> <bound method Rectangle.rect_instance_method of <__main__.Rectangle object at 0x00000224163702E0>>\n",
      "d1 = 2.8284271247461903\n",
      "Rectangle(width=10, height=10, center=(0, 0.3)) was deleted\n"
     ]
    }
   ],
   "source": [
    "# class definition\n",
    "\n",
    "import math\n",
    "\n",
    "class Rectangle:\n",
    "\n",
    "    # function used when an instance of the class is initialized (constructor)\n",
    "    # once executed it produces the class object Rectangle, which encapsulates\n",
    "    # the above definition and can be used to create objects that are instances\n",
    "    # of this class\n",
    "    def __init__(self, width, height, center=(0.0, 0.0), shape=\"Rectangle\"):\n",
    "        # The self operator refers to the object itself. \n",
    "        # It is used to access and assign values to the \n",
    "        # variables of this object.\n",
    "        self.width = width\n",
    "        self.height = height\n",
    "        self.center = center\n",
    "        self.shape = shape\n",
    "\n",
    "    # - function used format the output message when printing \n",
    "    # an object of this class\n",
    "    # - “self” as the argument is meant to indicate that \n",
    "    # the instance object is passing \n",
    "    # - itself as the first argument of the method.\n",
    "    def __str__(self):\n",
    "        # return message when printing the object\n",
    "        return f\"{self.shape}(width={self.width}, height={self.height}, center={self.center})\"\n",
    "\n",
    "    # function used when an instance of\n",
    "    # the class is deleted (destructor)\n",
    "    def __del__(self):\n",
    "        print(f\"{self.shape}(width={self.width}, height={self.height}, center={self.center}) was deleted\")\n",
    "    \n",
    "    # Instance methods\n",
    "    # - when we call an instance method from an object, Python automatically \n",
    "    # passes that instance object as the first argument and the other \n",
    "    # arguments that were defined\n",
    "    # - instance methods can modify the class and object instance states\n",
    "    def compute_area(self):\n",
    "        return self.width * self.height\n",
    "\n",
    "    def rect_instance_method(self):\n",
    "        \"\"\" A class method defined to simply\n",
    "            return `self` unchanged\"\"\"\n",
    "        return \"instance method called\", self\n",
    "\n",
    "    # Class methods\n",
    "    # - when we call a class method, the class object is automatically passed\n",
    "    # as the first argument. There is a distinction between class instance \n",
    "    # and class object. Class instance is the \"class Rectangle\" definition \n",
    "    # and the object an initialized element of that class.\n",
    "    # - class methods cannot modify the class state\n",
    "    @classmethod\n",
    "    def rect_class_method(cls):\n",
    "        \"\"\" A class method defined to simply\n",
    "            return `cls` unchanged\"\"\"\n",
    "        return \"class method called\", cls\n",
    "\n",
    "    # Static methods\n",
    "    # - static methods do not receive any automatic arguments by Python \n",
    "    # and can be called from an uninstantiated class object\n",
    "    @staticmethod\n",
    "    def euclidean_distance(a, b):\n",
    "        # used to compute distance between two points\n",
    "        (ax, ay) = a\n",
    "        (bx, by) = b\n",
    "        return math.sqrt(math.pow(ax-bx, 2) + math.pow(ay-by,2))\n",
    "\n",
    "# create a class object named rect1\n",
    "rect1 = Rectangle(10, 10, (0, 0.3))\n",
    "print(f\"{rect1}: area = {rect1.compute_area()}\")\n",
    "\n",
    "# check difference between class and instance method\n",
    "print(Rectangle.rect_class_method, rect1.rect_instance_method)\n",
    "\n",
    "# use the static method\n",
    "d1 = rect1.euclidean_distance((1, 3), (3, 1))\n",
    "# or \n",
    "d1 = Rectangle.euclidean_distance((1, 3), (3, 1))\n",
    "print(f\"d1 = {d1}\")\n",
    "\n",
    "# delete the object rect1\n",
    "del rect1"
   ]
  },
  {
   "cell_type": "markdown",
   "id": "cfe7624c-697f-4605-9176-1e97f38b8896",
   "metadata": {},
   "source": [
    "#### 8.2. Inheritance\n",
    "\n",
    "The inheritance mechanism allows a class to inherit and build off of the attributes of another class. The newly created class is called the derived or child class, and the one from which it inherits is called the base or parent class."
   ]
  },
  {
   "cell_type": "code",
   "execution_count": 4,
   "id": "49bda92c-c69d-4e59-a9d8-53fce7a0a0ce",
   "metadata": {},
   "outputs": [
    {
     "name": "stdout",
     "output_type": "stream",
     "text": [
      "Square(width=10, height=10, center=(0, 0))\n",
      "Perimeter: 40\n",
      "Square(width=10, height=10, center=(0, 0)) was deleted\n"
     ]
    }
   ],
   "source": [
    "# Creating Square, a subclass of Rectangle\n",
    "class Square(Rectangle):\n",
    "    def __init__(self, side, center=(0, 0)):\n",
    "        # equivalent to `Rectangle.__init__(self, side, side, center)`\n",
    "        \n",
    "        # we pass in that single side length as both the width and height \n",
    "        # to Rectangle.__init__. super always refers to the “super class” \n",
    "        # or “parent class” of a given class, thus super is Rectangle here.\n",
    "        super().__init__(side, side, center, shape=\"Square\")\n",
    "    \n",
    "    # Only the derived/child class instance and objects\n",
    "    # have access to this method\n",
    "    def print_perimeter(self):\n",
    "         return self.width * 2 + self.height*2\n",
    "\n",
    "square1 = Square(10)\n",
    "print(square1)\n",
    "\n",
    "# print perimeter using the attributes \n",
    "# from the parent class\n",
    "perim = square1.print_perimeter()\n",
    "print(f\"Perimeter: {perim}\")\n",
    "\n",
    "del square1"
   ]
  },
  {
   "cell_type": "markdown",
   "id": "2c8b59cb-cf8b-4d94-999e-1d27136e73bb",
   "metadata": {},
   "source": [
    "##### <span style=\"color:red\">QUESTIONS:</span> object oriented programming"
   ]
  },
  {
   "cell_type": "code",
   "execution_count": 6,
   "id": "0242dbb0-8f26-46f3-bd1b-36e26d5946cc",
   "metadata": {},
   "outputs": [],
   "source": [
    "# 1.  Write a Python class named “Rectangle”, \n",
    "#     which accepts a length and a width as \n",
    "#     parameters.\n",
    "\n",
    "class Rectangle:\n",
    "    def __init__(self, length, width):\n",
    "        self.length = length\n",
    "        self.width = width\n",
    "\n"
   ]
  },
  {
   "cell_type": "code",
   "execution_count": 7,
   "id": "4664d737",
   "metadata": {},
   "outputs": [],
   "source": [
    "# 2. Write a method dubbed “print_rectangle_surface()”\n",
    "#    in this class, which calculates and prints out \n",
    "#    the area of the rectangle.\n",
    "\n",
    "def print_rectangle_surface(self):\n",
    "    print(self.length * self.width)"
   ]
  },
  {
   "cell_type": "code",
   "execution_count": 10,
   "id": "3c0ece44",
   "metadata": {},
   "outputs": [],
   "source": [
    "# 3.  Write a method called “print_rectangle_perimeter()”\n",
    "#     in this class, which calculates and prints out the\n",
    "#     perimeter of the created rectangle.\n",
    "\n",
    "def print_rectangle_perimeter(self):\n",
    "    print(2*self.length + 2*self.width)"
   ]
  },
  {
   "cell_type": "code",
   "execution_count": 14,
   "id": "6469b059",
   "metadata": {},
   "outputs": [],
   "source": [
    "# 4. Write a method “rectangle_equalSides()” in this class,\n",
    "#    which checks whether or not the sides of the rectangle\n",
    "#    are equal and prints out the result.\n",
    "def rectangle_equalSides(self):\n",
    "    if (self.length == self.width):\n",
    "        print(\"equal\")\n",
    "    else:\n",
    "        print(\"not equal\")\n"
   ]
  },
  {
   "cell_type": "code",
   "execution_count": 17,
   "id": "3dc739b6",
   "metadata": {},
   "outputs": [
    {
     "ename": "AttributeError",
     "evalue": "'Rectangle' object has no attribute 'print_rectangle_surface'",
     "output_type": "error",
     "traceback": [
      "\u001b[1;31m---------------------------------------------------------------------------\u001b[0m",
      "\u001b[1;31mAttributeError\u001b[0m                            Traceback (most recent call last)",
      "\u001b[1;32m~\\AppData\\Local\\Temp\\ipykernel_25440\\1399821003.py\u001b[0m in \u001b[0;36m<module>\u001b[1;34m\u001b[0m\n\u001b[0;32m      5\u001b[0m \u001b[0mrectangle2\u001b[0m \u001b[1;33m=\u001b[0m \u001b[0mRectangle\u001b[0m\u001b[1;33m(\u001b[0m\u001b[1;36m6\u001b[0m\u001b[1;33m,\u001b[0m \u001b[1;36m6\u001b[0m\u001b[1;33m)\u001b[0m\u001b[1;33m\u001b[0m\u001b[1;33m\u001b[0m\u001b[0m\n\u001b[0;32m      6\u001b[0m \u001b[1;33m\u001b[0m\u001b[0m\n\u001b[1;32m----> 7\u001b[1;33m \u001b[0mperim\u001b[0m \u001b[1;33m=\u001b[0m \u001b[0mrectangle1\u001b[0m\u001b[1;33m.\u001b[0m\u001b[0mprint_rectangle_surface\u001b[0m\u001b[1;33m(\u001b[0m\u001b[1;33m)\u001b[0m\u001b[1;33m\u001b[0m\u001b[1;33m\u001b[0m\u001b[0m\n\u001b[0m\u001b[0;32m      8\u001b[0m \u001b[0mprint\u001b[0m\u001b[1;33m(\u001b[0m\u001b[1;34mf\"Perimeter: {perim}\"\u001b[0m\u001b[1;33m)\u001b[0m\u001b[1;33m\u001b[0m\u001b[1;33m\u001b[0m\u001b[0m\n",
      "\u001b[1;31mAttributeError\u001b[0m: 'Rectangle' object has no attribute 'print_rectangle_surface'"
     ]
    }
   ],
   "source": [
    "# 5. Now, create an equal and an unequal rectangle object and\n",
    "#    apply all methods on both rectangles.\n",
    "\n",
    "rectangle1 = Rectangle(12, 10)\n",
    "rectangle2 = Rectangle(6, 6)\n",
    "\n"
   ]
  },
  {
   "cell_type": "markdown",
   "id": "6ae00e29-652a-4a3d-858c-7f3486b4bca2",
   "metadata": {},
   "source": [
    "### 9. Command-line arguments (argv)\n",
    "\n",
    "The command-line arguments can be accessed in Python through `sys.argv`. The following snippet illustrates how to use it.\n",
    "\n",
    "```python\n",
    "import sys \n",
    "  \n",
    "print(\"This is the name of the program:\", sys.argv[0]) \n",
    "  \n",
    "print(\"Argument List:\", str(sys.argv)) \n",
    "```\n",
    "\n",
    "However, this does not provide any built-in functionality to do argument parsing or checking. The argparse package is a brilliant way to help you automatize the creation of user-friendly command-line interfaces. Argparse is part of Python's standard library, thus you do not need to install it through pip or conda.\n",
    "\n",
    "The following snippet gives an example of how to use the package for your projects.\n",
    "\n",
    "```python\n",
    "import argparse\n",
    "\n",
    "parser = argparse.ArgumentParser()\n",
    "\n",
    "# Positional argument (string)\n",
    "parser.add_argument('dataset')\n",
    "\n",
    "# Non-positional argument, but required\n",
    "parser.add_argument('--model', required=True)\n",
    "\n",
    "# Required integers\n",
    "parser.add_argument('--epochs', required=True, type=int)\n",
    "\n",
    "# Optional strings\n",
    "parser.add_argument('--optimizer', default='adam')\n",
    "\n",
    "# Optional flag\n",
    "parser.add_argument('--no-validation', action='store_true')\n",
    "\n",
    "\n",
    "# To run the argument parser\n",
    "args = parser.parse_args()\n",
    "```\n",
    "\n",
    "Possible arguments:\n",
    "\n",
    "- `required=True`: give an error if this argument does not exist\n",
    "- `type=xxx`: for types different than str\n",
    "- `default=xxx`: if not required, you can provide a default\n",
    "- `action=store_true`: set this argument to True/False if used or unused\n",
    "- `choices['a', 'b', 'c']`: to restrict the subset of possible options"
   ]
  },
  {
   "cell_type": "markdown",
   "id": "b53e7e18-6dea-47f8-ae53-0a35519c9263",
   "metadata": {},
   "source": [
    "### 10. Ctypes: using funtion libraries from C\n",
    "\n",
    "`ctypes` is a Python module used to load foreign function libraries into your code. It provides C compatible data types, and allows calling functions in DLLs or shared libraries. In other words, if you compile your C or C++ code with `gcc -shared`, then you can import it into Python using ctypes. In the following example we illustrate an example of a function written in C which we can load into Python and use it freely.\n",
    "\n",
    "Consider the following function developed in C:\n",
    "\n",
    "```C\n",
    "% clibrary.c\n",
    "int fn(int a, int b, int c) {\n",
    "    return a+b+c;\n",
    "}\n",
    "```\n",
    "\n",
    "Afterwards, your code can be compiled into a shared library using:\n",
    "\n",
    "```bash\n",
    "gcc -shared -o clibrary.so clibrary.c\n",
    "```\n",
    "\n",
    "And can be used in Python as follows:\n",
    "\n",
    "```python\n",
    "import ctypes\n",
    "lib = ctypes.cdll.LoadLibrary('./clibrary.so')\n",
    "print(lib.fn(1, 2, 3))\n",
    "```"
   ]
  },
  {
   "cell_type": "markdown",
   "id": "5abe7e77-fbe8-4189-90a4-9da30b176a6e",
   "metadata": {},
   "source": [
    "## 11. Final Challenge\n",
    "\n",
    "Develop the [QUESTION from the object oriented programming section](#QUESTIONS:-object-oriented-programming) in your local development environment.\n",
    "You must follow these rules:\n",
    "\n",
    "1. Directory structure:\n",
    "```bash\n",
    "- main.py (console session, where you run your \"main\")\n",
    "- geo/\n",
    "    |--__init__.py\n",
    "    |-- rectangle.py\n",
    "    |-- calc/\n",
    "        |-- __init__.py\n",
    "        |-- aux.c\n",
    "        |-- aux.so\n",
    "        |-- utils.py\n",
    "```\n",
    "\n",
    "Follow this directory structure. Your code in `main.py` you should import from the package geo the Rectangle class and it should contain the steps from question 5.\n",
    "The file `rectangle.py` should contain only the definition of the class Rectangle and import the helper functions from the subpackage `math`. Thereafter, the script utils.py should import the functions developed in C from `aux.so`.\n",
    "\n",
    "2. Compile the helper functions (C) using gcc\n",
    "\n",
    "3. Import the helper functions (C) in utils.py using `ctypes`\n",
    "\n",
    "4. By running `main.py` you should be able to produce the same output as the notebook\n",
    "\n",
    "<br>\n",
    "<br>\n",
    "\n",
    "*Sidenote:* Take special attention into the file paths that you are using. If it fails to load the *.so file due to an invalid file path you can use the `os` package. In this case, you can use a combination of the following function and special variable: `os.path.dirname(__file__)`.  __file__ is a variable that contains the path to the module that is currently being imported. os.path.dirname() is a function used to obtain the directory name from a `path` object (\\_\\_file\\_\\_).\n",
    "\n",
    "*Sidenote 2:*: Since we are using C functions that return floats we should modify the inputs and output in the ctypes lib object:\n",
    "```python\n",
    "import ctypes\n",
    "lib = ctypes.cdll.LoadLibrary('./clibrary.so')\n",
    "\n",
    "# Cast the input variables into a ctype float which \n",
    "# is compatible with primitive C data types\n",
    "# In this case, c_float -> float\n",
    "width = ctypes.c_float(width)\n",
    "length = ctypes.c_float(length)\n",
    "\n",
    "# define the type of output\n",
    "lib.rectangle_surface.restype = ctypes.c_float\n",
    "lib.rectangle_perimeter.restype = ctypes.c_float\n",
    "```\n",
    "\n",
    "<br>\n",
    "<br>\n",
    "\n",
    "- Utils functions in C:\n",
    "```C\n",
    "% aux.c\n",
    "#include <stdio.h>\n",
    "\n",
    "float rectangle_surface(float width, float length) {\n",
    "    return width * length;\n",
    "}\n",
    "\n",
    "float rectangle_perimeter(float width, float length) {\n",
    "    return 2 * (length + width);\n",
    "}\n",
    "```"
   ]
  },
  {
   "cell_type": "markdown",
   "id": "7d0e336d-9e7e-40d0-b3b7-3228896634ec",
   "metadata": {},
   "source": [
    "## References\n",
    "\n",
    "[1] K. Ousterhout, \"Scripting: higher level programming for the 21st Century,\" in Computer, vol. 31, no. 3, pp. 23-30, March 1998, doi: 10.1109/2.660187.\n",
    "\n",
    "[2] [PyCon 2013: From Source to Code: How CPython’s Compiler Works - Brett Cannon](https://www.youtube.com/watch?v=R31NRWgoIWM)\n",
    "\n",
    "[3] Awesome links for more in-depth information: [Python behind the scenes](https://tenthousandmeters.com/blog/python-behind-the-scenes-1-how-the-cpython-vm-works/); [Official docs: Design of CPython](https://tenthousandmeters.com/blog/python-behind-the-scenes-1-how-the-cpython-vm-works/);\n",
    "\n",
    "[4] [Geeks for Geeks: Stack vs Heap Memory Allocation](https://www.geeksforgeeks.org/stack-vs-heap-memory-allocation/)\n",
    "\n",
    "[5] [Stack Overflow: What and where are the stack and heap?](https://stackoverflow.com/questions/79923/what-and-where-are-the-stack-and-heap)\n",
    "\n",
    "[6] [Nina Zakharenko talk](https://www.youtube.com/watch?v=F6u5rhUQ6dU)\n",
    "\n",
    "[7] [CPython Official Docummentation](https://devguide.python.org/garbage_collector)\n",
    "\n",
    "[8] [Python Package Index (PyPI)](https://pypi.org/)"
   ]
  },
  {
   "cell_type": "markdown",
   "id": "5bf1a03d-2252-4e26-aa6d-86441a2b3a85",
   "metadata": {},
   "source": [
    "## References (development of this lab script)\n",
    "\n",
    "This lab script was inspired from the tutorials/documentation from:\n",
    "\n",
    "[a] [Python Like You Mean It by Ryan Soklaski](https://www.pythonlikeyoumeanit.com/index.html)\n",
    "\n",
    "[b] [Made with ML by Goku Mohandas](https://madewithml.com/), [Github link](https://github.com/GokuMohandas/Made-With-ML)\n",
    "\n",
    "[c] Scripts from workshops presented in previous editions of the [CTM OpenDay at INESC TEC](https://opendayctm.inesctec.pt/)\n",
    "\n",
    "[d] [Introduction to Python3 from RealPython.com](https://realpython.com/python-introduction/)\n",
    "\n",
    "[e] Ramalho, Luciano. Fluent python. \" O'Reilly Media, Inc.\", 2022."
   ]
  }
 ],
 "metadata": {
  "kernelspec": {
   "display_name": "base",
   "language": "python",
   "name": "python3"
  },
  "language_info": {
   "codemirror_mode": {
    "name": "ipython",
    "version": 3
   },
   "file_extension": ".py",
   "mimetype": "text/x-python",
   "name": "python",
   "nbconvert_exporter": "python",
   "pygments_lexer": "ipython3",
   "version": "3.9.13"
  },
  "vscode": {
   "interpreter": {
    "hash": "fcdaa5cee850c7dacfb8b33c158dbd3104735456080d00af01f8d6ab7e478a3a"
   }
  }
 },
 "nbformat": 4,
 "nbformat_minor": 5
}
